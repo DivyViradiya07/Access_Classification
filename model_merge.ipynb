{
 "cells": [
  {
   "cell_type": "code",
   "execution_count": 18,
   "id": "892bc7c3",
   "metadata": {},
   "outputs": [
    {
     "name": "stdout",
     "output_type": "stream",
     "text": [
      "read\n",
      "Confidential\n"
     ]
    }
   ],
   "source": [
    "import joblib\n",
    "import numpy as np\n",
    "\n",
    "# Load the trained models\n",
    "action_model = joblib.load(\"action_classifier.pkl\")\n",
    "sensitivity_model = joblib.load(\"sensitivity_classifier.pkl\")\n",
    "\n",
    "# Function to make predictions\n",
    "def classify_user_query(query):\n",
    "    action = action_model.predict([query])[0]\n",
    "    sensitivity = sensitivity_model.predict([query])[0]\n",
    "    return action, sensitivity\n",
    "\n",
    "# Example queries\n",
    "test_queries = [\n",
    "    \"Please delete the incident response file\"\n",
    "]\n",
    "\n",
    "action,sensitivity=classify_user_query(q)\n",
    "\n",
    "print(action)\n",
    "print(sensitivity)\n",
    "\n"
   ]
  },
  {
   "cell_type": "code",
   "execution_count": 19,
   "id": "ffef49d4",
   "metadata": {},
   "outputs": [
    {
     "name": "stdout",
     "output_type": "stream",
     "text": [
      "\n",
      "Access Request Details:\n",
      "User Role: Admin\n",
      "Action: read\n",
      "Department: IT\n",
      "Resource Sensitivity: confidential\n",
      "Past Violations: 0\n",
      "\n",
      "Prediction: Grant\n",
      "Confidence: 70.92%\n"
     ]
    },
    {
     "name": "stderr",
     "output_type": "stream",
     "text": [
      "d:\\Cuda_env\\Lib\\site-packages\\sklearn\\utils\\validation.py:2739: UserWarning: X does not have valid feature names, but StandardScaler was fitted with feature names\n",
      "  warnings.warn(\n"
     ]
    }
   ],
   "source": [
    "# Test the loaded model with a new case\n",
    "test_case = {\n",
    "    'user_role': 'Admin',\n",
    "    'action': action,\n",
    "    'department': 'IT',\n",
    "    'resource_sensitivity': sensitivity.lower(),\n",
    "    'past_violations': 0\n",
    "}\n",
    "\n",
    "\n",
    "\n",
    "# Load the model components\n",
    "loaded_components = joblib.load('access_control_model.joblib')\n",
    "loaded_classifier = loaded_components['classifier']\n",
    "loaded_scaler = loaded_components['scaler']\n",
    "loaded_encoders = loaded_components['label_encoders']\n",
    "\n",
    "# Encode categorical variables using the loaded encoders\n",
    "role_encoded = loaded_encoders['user_role'].transform([test_case['user_role']])[0]\n",
    "action_encoded = loaded_encoders['action'].transform([test_case['action']])[0]\n",
    "dept_encoded = loaded_encoders['department'].transform([test_case['department']])[0]\n",
    "sensitivity_encoded = loaded_encoders['resource_sensitivity'].transform([test_case['resource_sensitivity']])[0]\n",
    "\n",
    "# Create feature array\n",
    "features = np.array([[role_encoded, action_encoded, \n",
    "                     dept_encoded, sensitivity_encoded,\n",
    "                     test_case['past_violations']]])\n",
    "\n",
    "# Scale features\n",
    "features_scaled = loaded_scaler.transform(features)\n",
    "\n",
    "# Make prediction\n",
    "prediction = loaded_classifier.predict(features_scaled)[0]\n",
    "probability = loaded_classifier.predict_proba(features_scaled)[0]\n",
    "\n",
    "print(f\"\\nAccess Request Details:\")\n",
    "print(f\"User Role: {test_case['user_role']}\")\n",
    "print(f\"Action: {test_case['action']}\")\n",
    "print(f\"Department: {test_case['department']}\")\n",
    "print(f\"Resource Sensitivity: {test_case['resource_sensitivity']}\")\n",
    "print(f\"Past Violations: {test_case['past_violations']}\")\n",
    "print(f\"\\nPrediction: {'Grant' if prediction else 'Deny/Flag'}\")\n"
   ]
  }
 ],
 "metadata": {
  "kernelspec": {
   "display_name": "CUDA_env",
   "language": "python",
   "name": "cuda_env"
  },
  "language_info": {
   "codemirror_mode": {
    "name": "ipython",
    "version": 3
   },
   "file_extension": ".py",
   "mimetype": "text/x-python",
   "name": "python",
   "nbconvert_exporter": "python",
   "pygments_lexer": "ipython3",
   "version": "3.13.2"
  }
 },
 "nbformat": 4,
 "nbformat_minor": 5
}
