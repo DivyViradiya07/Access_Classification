{
 "cells": [
  {
   "cell_type": "markdown",
   "metadata": {},
   "source": [
    "# Document Access Control Classifier\n",
    "\n",
    "This notebook builds a machine learning model to classify document access requests as either 'deny' or 'flag' based on various features.\n"
   ]
  },
  {
   "cell_type": "code",
   "execution_count": 11,
   "id": "0a85a93b",
   "metadata": {},
   "outputs": [
    {
     "name": "stdout",
     "output_type": "stream",
     "text": [
      "Dataset Info:\n",
      "<class 'pandas.core.frame.DataFrame'>\n",
      "RangeIndex: 10000 entries, 0 to 9999\n",
      "Data columns (total 8 columns):\n",
      " #   Column                Non-Null Count  Dtype \n",
      "---  ------                --------------  ----- \n",
      " 0   user_role             10000 non-null  object\n",
      " 1   department            10000 non-null  object\n",
      " 2   employee_status       10000 non-null  object\n",
      " 3   resource_type         10000 non-null  object\n",
      " 4   resource_sensitivity  10000 non-null  object\n",
      " 5   action                10000 non-null  object\n",
      " 6   past_violations       10000 non-null  int64 \n",
      " 7   is_approved           10000 non-null  int64 \n",
      "dtypes: int64(2), object(6)\n",
      "memory usage: 625.1+ KB\n",
      "None\n",
      "\n",
      "First few rows:\n"
     ]
    },
    {
     "data": {
      "text/html": [
       "<div>\n",
       "<style scoped>\n",
       "    .dataframe tbody tr th:only-of-type {\n",
       "        vertical-align: middle;\n",
       "    }\n",
       "\n",
       "    .dataframe tbody tr th {\n",
       "        vertical-align: top;\n",
       "    }\n",
       "\n",
       "    .dataframe thead th {\n",
       "        text-align: right;\n",
       "    }\n",
       "</style>\n",
       "<table border=\"1\" class=\"dataframe\">\n",
       "  <thead>\n",
       "    <tr style=\"text-align: right;\">\n",
       "      <th></th>\n",
       "      <th>user_role</th>\n",
       "      <th>department</th>\n",
       "      <th>employee_status</th>\n",
       "      <th>resource_type</th>\n",
       "      <th>resource_sensitivity</th>\n",
       "      <th>action</th>\n",
       "      <th>past_violations</th>\n",
       "      <th>is_approved</th>\n",
       "    </tr>\n",
       "  </thead>\n",
       "  <tbody>\n",
       "    <tr>\n",
       "      <th>0</th>\n",
       "      <td>Manager</td>\n",
       "      <td>IT</td>\n",
       "      <td>Full-time</td>\n",
       "      <td>doc</td>\n",
       "      <td>confidential</td>\n",
       "      <td>delete</td>\n",
       "      <td>0</td>\n",
       "      <td>1</td>\n",
       "    </tr>\n",
       "    <tr>\n",
       "      <th>1</th>\n",
       "      <td>Contractor</td>\n",
       "      <td>Operations</td>\n",
       "      <td>Part-time</td>\n",
       "      <td>doc</td>\n",
       "      <td>restricted</td>\n",
       "      <td>download</td>\n",
       "      <td>0</td>\n",
       "      <td>1</td>\n",
       "    </tr>\n",
       "    <tr>\n",
       "      <th>2</th>\n",
       "      <td>Manager</td>\n",
       "      <td>Operations</td>\n",
       "      <td>Contract</td>\n",
       "      <td>spreadsheet</td>\n",
       "      <td>public</td>\n",
       "      <td>read</td>\n",
       "      <td>3</td>\n",
       "      <td>0</td>\n",
       "    </tr>\n",
       "    <tr>\n",
       "      <th>3</th>\n",
       "      <td>Intern</td>\n",
       "      <td>Finance</td>\n",
       "      <td>Contract</td>\n",
       "      <td>video</td>\n",
       "      <td>public</td>\n",
       "      <td>download</td>\n",
       "      <td>1</td>\n",
       "      <td>1</td>\n",
       "    </tr>\n",
       "    <tr>\n",
       "      <th>4</th>\n",
       "      <td>Intern</td>\n",
       "      <td>Legal</td>\n",
       "      <td>Terminated</td>\n",
       "      <td>spreadsheet</td>\n",
       "      <td>restricted</td>\n",
       "      <td>edit</td>\n",
       "      <td>5</td>\n",
       "      <td>0</td>\n",
       "    </tr>\n",
       "  </tbody>\n",
       "</table>\n",
       "</div>"
      ],
      "text/plain": [
       "    user_role  department employee_status resource_type resource_sensitivity  \\\n",
       "0     Manager          IT       Full-time           doc         confidential   \n",
       "1  Contractor  Operations       Part-time           doc           restricted   \n",
       "2     Manager  Operations        Contract   spreadsheet               public   \n",
       "3      Intern     Finance        Contract         video               public   \n",
       "4      Intern       Legal      Terminated   spreadsheet           restricted   \n",
       "\n",
       "     action  past_violations  is_approved  \n",
       "0    delete                0            1  \n",
       "1  download                0            1  \n",
       "2      read                3            0  \n",
       "3  download                1            1  \n",
       "4      edit                5            0  "
      ]
     },
     "execution_count": 11,
     "metadata": {},
     "output_type": "execute_result"
    }
   ],
   "source": [
    "import pandas as pd\n",
    "import numpy as np\n",
    "from sklearn.model_selection import train_test_split\n",
    "from sklearn.preprocessing import LabelEncoder, StandardScaler\n",
    "from sklearn.ensemble import RandomForestClassifier\n",
    "from sklearn.metrics import classification_report, confusion_matrix\n",
    "import matplotlib.pyplot as plt\n",
    "import seaborn as sns\n",
    "\n",
    "# Read the dataset\n",
    "df = pd.read_csv('synthetic_access_data_10000.csv')\n",
    "\n",
    "# Select only the required columns\n",
    "required_columns = [\n",
    "    'user_role',\n",
    "    'department',\n",
    "    'employee_status',\n",
    "    'resource_type',\n",
    "    'resource_sensitivity',\n",
    "    'action',\n",
    "    'past_violations',\n",
    "    'is_approved'\n",
    "]\n",
    "\n",
    "df = df[required_columns]\n",
    "\n",
    "# Display basic information about the dataset\n",
    "print(\"Dataset Info:\")\n",
    "print(df.info())\n",
    "print(\"\\nFirst few rows:\")\n",
    "df.head()"
   ]
  },
  {
   "cell_type": "code",
   "execution_count": 12,
   "id": "fb161bb0",
   "metadata": {},
   "outputs": [],
   "source": [
    "# Data preprocessing\n",
    "# Create separate LabelEncoder instances for each categorical column\n",
    "label_encoders = {}\n",
    "categorical_columns = ['user_role', 'action', 'department', 'resource_sensitivity']\n",
    "\n",
    "for col in categorical_columns:\n",
    "    label_encoders[col] = LabelEncoder()\n",
    "    df[col + '_encoded'] = label_encoders[col].fit_transform(df[col])\n",
    "\n",
    "# Create feature matrix X and target variable y\n",
    "feature_columns = [\n",
    "    'user_role_encoded', \n",
    "    'action_encoded',\n",
    "    'department_encoded',\n",
    "    'resource_sensitivity_encoded',\n",
    "    'past_violations'\n",
    "]\n",
    "\n",
    "\n",
    "X = df[feature_columns]\n",
    "y = df['is_approved']  # Using is_approved as our target variable\n",
    "\n",
    "# Split the data into training and testing sets\n",
    "X_train, X_test, y_train, y_test = train_test_split(X, y, test_size=0.2, random_state=42)\n",
    "\n",
    "# Scale the features\n",
    "scaler = StandardScaler()\n",
    "X_train_scaled = scaler.fit_transform(X_train)\n",
    "X_test_scaled = scaler.transform(X_test)"
   ]
  },
  {
   "cell_type": "code",
   "execution_count": 13,
   "id": "c9e21bcf",
   "metadata": {},
   "outputs": [
    {
     "name": "stdout",
     "output_type": "stream",
     "text": [
      "Classification Report:\n",
      "              precision    recall  f1-score   support\n",
      "\n",
      "           0       0.91      0.87      0.89      1367\n",
      "           1       0.74      0.81      0.78       633\n",
      "\n",
      "    accuracy                           0.85      2000\n",
      "   macro avg       0.83      0.84      0.83      2000\n",
      "weighted avg       0.86      0.85      0.85      2000\n",
      "\n"
     ]
    },
    {
     "data": {
      "image/png": "[encoded data removed]",
      "text/plain": [
       "<Figure size 800x600 with 2 Axes>"
      ]
     },
     "metadata": {},
     "output_type": "display_data"
    }
   ],
   "source": [
    "# Train the Random Forest Classifier\n",
    "rf_classifier = RandomForestClassifier(n_estimators=100, random_state=42)\n",
    "rf_classifier.fit(X_train_scaled, y_train)\n",
    "\n",
    "# Make predictions\n",
    "y_pred = rf_classifier.predict(X_test_scaled)\n",
    "\n",
    "# Print classification report\n",
    "print(\"Classification Report:\")\n",
    "print(classification_report(y_test, y_pred))\n",
    "\n",
    "# Plot confusion matrix\n",
    "plt.figure(figsize=(8, 6))\n",
    "cm = confusion_matrix(y_test, y_pred)\n",
    "sns.heatmap(cm, annot=True, fmt='d', cmap='Blues')\n",
    "plt.title('Confusion Matrix')\n",
    "plt.xlabel('Predicted')\n",
    "plt.ylabel('Actual')\n",
    "plt.show()"
   ]
  },
  {
   "cell_type": "code",
   "execution_count": 14,
   "id": "97b6a340",
   "metadata": {},
   "outputs": [
    {
     "data": {
      "image/png": "[encoded data removed]",
      "text/plain": [
       "<Figure size 1200x600 with 1 Axes>"
      ]
     },
     "metadata": {},
     "output_type": "display_data"
    }
   ],
   "source": [
    "# Feature importance analysis\n",
    "feature_importance = pd.DataFrame({\n",
    "    'feature': feature_columns,\n",
    "    'importance': rf_classifier.feature_importances_\n",
    "})\n",
    "feature_importance = feature_importance.sort_values('importance', ascending=False)\n",
    "\n",
    "plt.figure(figsize=(12, 6))\n",
    "sns.barplot(x='importance', y='feature', data=feature_importance)\n",
    "plt.title('Feature Importance')\n",
    "plt.show()"
   ]
  },
  {
   "cell_type": "code",
   "execution_count": 15,
   "id": "1a6d067a",
   "metadata": {},
   "outputs": [],
   "source": [
    "# Function to predict access for new requests (without resource_type and employee_status)\n",
    "def predict_access(user_role, action, department, \n",
    "                   resource_sensitivity, past_violations):\n",
    "    # Encode categorical variables using the appropriate label encoder\n",
    "    role_encoded = label_encoders['user_role'].transform([user_role])[0]\n",
    "    action_encoded = label_encoders['action'].transform([action])[0]\n",
    "    dept_encoded = label_encoders['department'].transform([department])[0]\n",
    "    sensitivity_encoded = label_encoders['resource_sensitivity'].transform([resource_sensitivity])[0]\n",
    "    \n",
    "    # Create feature array (excluding resource_type and employee_status)\n",
    "    features = np.array([[role_encoded, action_encoded, dept_encoded,\n",
    "                          sensitivity_encoded, past_violations]])\n",
    "    \n",
    "    # Scale features\n",
    "    features_scaled = scaler.transform(features)\n",
    "    \n",
    "    # Make prediction\n",
    "    prediction = rf_classifier.predict(features_scaled)[0]\n",
    "    probability = rf_classifier.predict_proba(features_scaled)[0]\n",
    "    \n",
    "    return prediction, probability\n"
   ]
  },
  {
   "cell_type": "code",
   "execution_count": 16,
   "metadata": {},
   "outputs": [
    {
     "data": {
      "text/plain": [
       "0      delete\n",
       "1    download\n",
       "2        read\n",
       "3    download\n",
       "4        edit\n",
       "5    download\n",
       "6       share\n",
       "7    download\n",
       "8      delete\n",
       "9        read\n",
       "Name: action, dtype: object"
      ]
     },
     "execution_count": 16,
     "metadata": {},
     "output_type": "execute_result"
    }
   ],
   "source": [
    "df['action_encoded'].head(10)\n",
    "df['action'].head(10)"
   ]
  },
  {
   "cell_type": "code",
   "execution_count": 17,
   "id": "c7be3911",
   "metadata": {},
   "outputs": [
    {
     "name": "stdout",
     "output_type": "stream",
     "text": [
      "Model and components saved successfully to 'access_control_model.joblib'\n",
      "\n",
      "Model loaded successfully. Components available:\n",
      "- Random Forest Classifier\n",
      "- StandardScaler\n",
      "- Label Encoders\n"
     ]
    }
   ],
   "source": [
    "# Save the trained model and necessary components\n",
    "import joblib\n",
    "\n",
    "# Create a dictionary containing all necessary components\n",
    "model_components = {\n",
    "    'classifier': rf_classifier,\n",
    "    'scaler': scaler,\n",
    "    'label_encoders': label_encoders\n",
    "}\n",
    "\n",
    "# Save the model components to a file\n",
    "joblib.dump(model_components, 'access_control_model.joblib')\n",
    "\n",
    "print(\"Model and components saved successfully to 'access_control_model.joblib'\")\n",
    "\n",
    "# Example of loading the model\n",
    "loaded_components = joblib.load('access_control_model.joblib')\n",
    "print(\"\\nModel loaded successfully. Components available:\")\n",
    "print(\"- Random Forest Classifier\")\n",
    "print(\"- StandardScaler\")\n",
    "print(\"- Label Encoders\")\n"
   ]
  },
  {
   "cell_type": "code",
   "execution_count": 18,
   "id": "6b07f340",
   "metadata": {},
   "outputs": [
    {
     "name": "stdout",
     "output_type": "stream",
     "text": [
      "\n",
      "Access Request Details:\n",
      "User Role: Admin\n",
      "Action: read\n",
      "Department: IT\n",
      "Resource Sensitivity: restricted\n",
      "Past Violations: 0\n",
      "\n",
      "Prediction: Grant\n",
      "Confidence: 88.24%\n"
     ]
    },
    {
     "name": "stderr",
     "output_type": "stream",
     "text": [
      "d:\\Cuda_env\\Lib\\site-packages\\sklearn\\utils\\validation.py:2739: UserWarning: X does not have valid feature names, but StandardScaler was fitted with feature names\n",
      "  warnings.warn(\n"
     ]
    }
   ],
   "source": [
    "# Test the loaded model with a new case\n",
    "test_case = {\n",
    "    'user_role': 'Admin',\n",
    "    'action': 'read',\n",
    "    'department': 'IT',\n",
    "    'resource_sensitivity': 'restricted',\n",
    "    'past_violations': 0\n",
    "}\n",
    "\n",
    "# Load the model components\n",
    "loaded_components = joblib.load('access_control_model.joblib')\n",
    "loaded_classifier = loaded_components['classifier']\n",
    "loaded_scaler = loaded_components['scaler']\n",
    "loaded_encoders = loaded_components['label_encoders']\n",
    "\n",
    "# Encode categorical variables using the loaded encoders\n",
    "role_encoded = loaded_encoders['user_role'].transform([test_case['user_role']])[0]\n",
    "action_encoded = loaded_encoders['action'].transform([test_case['action']])[0]\n",
    "dept_encoded = loaded_encoders['department'].transform([test_case['department']])[0]\n",
    "sensitivity_encoded = loaded_encoders['resource_sensitivity'].transform([test_case['resource_sensitivity']])[0]\n",
    "\n",
    "# Create feature array\n",
    "features = np.array([[role_encoded, action_encoded, \n",
    "                     dept_encoded, sensitivity_encoded,\n",
    "                     test_case['past_violations']]])\n",
    "\n",
    "# Scale features\n",
    "features_scaled = loaded_scaler.transform(features)\n",
    "\n",
    "# Make prediction\n",
    "prediction = loaded_classifier.predict(features_scaled)[0]\n",
    "probability = loaded_classifier.predict_proba(features_scaled)[0]\n",
    "\n",
    "print(f\"\\nAccess Request Details:\")\n",
    "print(f\"User Role: {test_case['user_role']}\")\n",
    "print(f\"Action: {test_case['action']}\")\n",
    "print(f\"Department: {test_case['department']}\")\n",
    "print(f\"Resource Sensitivity: {test_case['resource_sensitivity']}\")\n",
    "print(f\"Past Violations: {test_case['past_violations']}\")\n",
    "print(f\"\\nPrediction: {'Grant' if prediction else 'Deny/Flag'}\")\n",
    "print(f\"Confidence: {max(probability)*100:.2f}%\")\n"
   ]
  },
  {
   "cell_type": "code",
   "execution_count": 19,
   "id": "fba59d4f",
   "metadata": {},
   "outputs": [
    {
     "name": "stdout",
     "output_type": "stream",
     "text": [
      "\n",
      "Testing another instance:\n",
      "\n",
      "Access Request Details:\n",
      "User Role: Intern\n",
      "Action: delete\n",
      "Department: Finance\n",
      "Resource Sensitivity: confidential\n",
      "Past Violations: 3\n",
      "\n",
      "Prediction: Deny/Flag\n",
      "Confidence: 100.00%\n"
     ]
    },
    {
     "name": "stderr",
     "output_type": "stream",
     "text": [
      "d:\\Cuda_env\\Lib\\site-packages\\sklearn\\utils\\validation.py:2739: UserWarning: X does not have valid feature names, but StandardScaler was fitted with feature names\n",
      "  warnings.warn(\n"
     ]
    }
   ],
   "source": [
    "# Test another instance with different characteristics (updated for reduced feature set)\n",
    "print(\"\\nTesting another instance:\")\n",
    "test_case = {\n",
    "    'user_role': 'Intern',\n",
    "    'action': 'delete',\n",
    "    'department': 'Finance',\n",
    "    'resource_sensitivity': 'confidential',\n",
    "    'past_violations': 3\n",
    "}\n",
    "\n",
    "# Call the prediction function with only the required parameters\n",
    "prediction, probability = predict_access(\n",
    "    user_role=test_case['user_role'],\n",
    "    action=test_case['action'],\n",
    "    department=test_case['department'],\n",
    "    resource_sensitivity=test_case['resource_sensitivity'],\n",
    "    past_violations=test_case['past_violations']\n",
    ")\n",
    "\n",
    "# Display full access request details (including unused fields)\n",
    "print(f\"\\nAccess Request Details:\")\n",
    "print(f\"User Role: {test_case['user_role']}\")\n",
    "print(f\"Action: {test_case['action']}\")\n",
    "print(f\"Department: {test_case['department']}\")\n",
    "print(f\"Resource Sensitivity: {test_case['resource_sensitivity']}\")\n",
    "print(f\"Past Violations: {test_case['past_violations']}\")\n",
    "\n",
    "print(f\"\\nPrediction: {'Grant' if prediction else 'Deny/Flag'}\")\n",
    "print(f\"Confidence: {max(probability)*100:.2f}%\")\n"
   ]
  },
  {
   "cell_type": "code",
   "execution_count": null,
   "metadata": {},
   "outputs": [],
   "source": []
  }
 ],
 "metadata": {
  "kernelspec": {
   "display_name": "CUDA_env",
   "language": "python",
   "name": "cuda_env"
  },
  "language_info": {
   "codemirror_mode": {
    "name": "ipython",
    "version": 3
   },
   "file_extension": ".py",
   "mimetype": "text/x-python",
   "name": "python",
   "nbconvert_exporter": "python",
   "pygments_lexer": "ipython3",
   "version": "3.13.2"
  }
 },
 "nbformat": 4,
 "nbformat_minor": 4
}
